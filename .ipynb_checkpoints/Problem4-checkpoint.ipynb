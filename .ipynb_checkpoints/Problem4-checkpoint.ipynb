{
 "cells": [
  {
   "cell_type": "markdown",
   "metadata": {},
   "source": [
    "Reference: https://github.com/DavitKhach/quantum-algorithms-tutorials/blob/master/variational_quantum_eigensolver.ipynb\n",
    "\n",
    "Link found from Michał Stęchły's blog - Thank you for helping me understand VQE."
   ]
  },
  {
   "cell_type": "markdown",
   "metadata": {},
   "source": [
    "<div style=\"font-size: 25px\">\n",
    "    Approach\n",
    "</div>\n",
    "\n",
    "The first step towards solving the problem is to observe that:\n",
    "\\begin{equation}\n",
    "H = \\begin{bmatrix}\n",
    "0 & 0 & 0 & 0 \\\\\n",
    "0 & -1 & 1 & 0 \\\\\n",
    "0 & 1 & -1 & 0 \\\\\n",
    "0 & 0 & 0 & 0\n",
    "\\end{bmatrix} = \\frac{1}{2}(-I \\otimes I + X \\otimes X + Y \\otimes Y + Z \\otimes Z)\n",
    "\\end{equation}\n",
    "\n",
    "<br>\n",
    "\n",
    "<div style=\"font-size: 18px\">\n",
    "    Choice of Ansatz:\n",
    "</div>\n",
    "\n",
    "From the above breakdown of the Hamiltonian into the Pauli matrices, a fair idea of the solution states can be obtined. The lowest energy eigenvectors of *ZZ* are $ \\left| 01 \\right\\rangle $ and $ \\left| 10 \\right\\rangle $ and that of *XX* are $\\frac{1}{\\sqrt{2}}(\\left| 00 \\right\\rangle - \\left| 11 \\right\\rangle)$ and $\\frac{1}{\\sqrt{2}}(-\\left| 01 \\right\\rangle + \\left| 10 \\right\\rangle)$. The first eigenvector of *XX* is a superposition of the excited states of *ZZ*, and hence, cannot be a solution. Thus, the second eigenvector of *XX* (which is a superposition of the ground states of *ZZ*) is a possible candidate solution.\n",
    "\n",
    "A similar argument can be made about the eigenvectors of *XX*, *YY*, and *ZZ* operators. From this, it is easy to visualise that for the ground state of *H*, the first qubit must lie on the unit circle of the *XY* plane of its Bloch sphere, and the second qubit must be a complement of the first one.\n",
    "\n",
    "Keeping these in mind, a possible ansatz is : $(CX)(RZ I)(HI)(IX) \\left| 00 \\right\\rangle$ \n",
    "\n",
    "(inspired by the hints provided).\n",
    "\n",
    "<br>\n",
    "\n",
    "<div style=\"font-size: 18px\">\n",
    "    Measurement of Expectation Value:\n",
    "</div>\n",
    "\n",
    "If the state of the two qubits is given as $\\left| \\psi \\right\\rangle = \\begin{bmatrix} \\alpha \\\\ \\beta \\\\ \\gamma \\\\ \\delta \\end{bmatrix}$, then:\n",
    "\n",
    "\\begin{equation}\n",
    "\\left\\langle \\psi \\middle| ZZ \\middle| \\psi \\right\\rangle = \\begin{bmatrix} \\alpha^{*} & \\beta^{*} & \\gamma^{*} & \\delta^{*} \\end{bmatrix} \\begin{bmatrix} 1 & 0 & 0 & 0 \\\\ 0 & -1 & 0 & 0 \\\\ 0 & 0 & -1 & 0 \\\\ 0 & 0 & 0 & 1 \\end{bmatrix} \\begin{bmatrix} \\alpha \\\\ \\beta \\\\ \\gamma \\\\ \\delta \\end{bmatrix} = \n",
    "{|\\alpha|}^{2} - {|\\beta|}^{2} - {|\\gamma|}^{2} + {|\\delta|}^{2}\n",
    "\\end{equation}\n",
    "\n",
    "\\begin{equation}\n",
    "\\left\\langle \\psi \\middle| XX \\middle| \\psi \\right\\rangle = \\begin{bmatrix} \\alpha^{*} & \\beta^{*} & \\gamma^{*} & \\delta^{*} \\end{bmatrix} {\\left( \\frac{1}{\\sqrt{2}} \\begin{bmatrix} 1 & -1 \\\\ 1 & 1 \\end{bmatrix} \\otimes \\frac{1}{\\sqrt{2}}\\begin{bmatrix} 1 & -1 \\\\ 1 & 1 \\end{bmatrix}\\right) }^{\\dagger} \\begin{bmatrix} 1 & 0 & 0 & 0 \\\\ 0 & -1 & 0 & 0 \\\\ 0 & 0 & -1 & 0 \\\\ 0 & 0 & 0 & 1 \\end{bmatrix} \\left( \\frac{1}{\\sqrt{2}} \\begin{bmatrix} 1 & -1 \\\\ 1 & 1 \\end{bmatrix} \\otimes \\frac{1}{\\sqrt{2}}\\begin{bmatrix} 1 & -1 \\\\ 1 & 1 \\end{bmatrix}\\right) \\begin{bmatrix} \\alpha \\\\ \\beta \\\\ \\gamma \\\\ \\delta \\end{bmatrix} = {|\\alpha|}^{2} - {|\\beta|}^{2} - {|\\gamma|}^{2} + {|\\delta|}^{2}\n",
    "\\end{equation}\n",
    "\n",
    "\\begin{equation}\n",
    "\\left\\langle \\psi \\middle| YY \\middle| \\psi \\right\\rangle = \\begin{bmatrix} \\alpha^{*} & \\beta^{*} & \\gamma^{*} & \\delta^{*} \\end{bmatrix} {\\left( \\frac{1}{\\sqrt{2}} \\begin{bmatrix} 1 & i \\\\ i & 1 \\end{bmatrix} \\otimes \\frac{1}{\\sqrt{2}}\\begin{bmatrix} 1 & i \\\\ i & 1 \\end{bmatrix}\\right) }^{\\dagger} \\begin{bmatrix} 0 & 0 & 0 & -1 \\\\ 0 & 0 & 1 & 0 \\\\ 0 & 1 & 0 & 0 \\\\ -1 & 0 & 0 & 0 \\end{bmatrix} \\left( \\frac{1}{\\sqrt{2}} \\begin{bmatrix} 1 & i \\\\ i & 1 \\end{bmatrix} \\otimes \\frac{1}{\\sqrt{2}}\\begin{bmatrix} 1 & i \\\\ i & 1 \\end{bmatrix}\\right) \\begin{bmatrix} \\alpha \\\\ \\beta \\\\ \\gamma \\\\ \\delta \\end{bmatrix} = {|\\alpha|}^{2} - {|\\beta|}^{2} - {|\\gamma|}^{2} + {|\\delta|}^{2}\n",
    "\\end{equation}\n",
    "\n",
    "<br>\n",
    "\n",
    "If $P_{00}$ denotes the probability of getting the state $\\left| 00 \\right\\rangle$, then from the above equations, it can be inferred that the expectation values for *XX*, *YY*, and *ZZ* are given by $P_{00} - P_{01} - P_{10} + P_{11}$."
   ]
  },
  {
   "cell_type": "code",
   "execution_count": 1,
   "metadata": {},
   "outputs": [],
   "source": [
    "import numpy as np\n",
    "from random import random\n",
    "from scipy import array\n",
    "from scipy.optimize import minimize\n",
    "\n",
    "from qiskit import *\n",
    "from qiskit.extensions.standard import *\n",
    "from qiskit.tools.visualization import circuit_drawer\n",
    "from qiskit.aqua.operators import WeightedPauliOperator\n",
    "from qiskit.tools.visualization import plot_histogram, plot_bloch_multivector"
   ]
  },
  {
   "cell_type": "code",
   "execution_count": 2,
   "metadata": {},
   "outputs": [],
   "source": [
    "'''Creating the target Hamiltonian Matrix: -0.5II + 0.5XX + 0.5YY + 0.5ZZ'''\n",
    "pauli_dict = {\n",
    "        'paulis': [{\"coeff\": {\"imag\": 0.0, \"real\": -0.5}, \"label\": \"II\"},\n",
    "                   {\"coeff\": {\"imag\": 0.0, \"real\": 0.5}, \"label\": \"ZZ\"},\n",
    "                   {\"coeff\": {\"imag\": 0.0, \"real\": 0.5}, \"label\": \"XX\"},\n",
    "                   {\"coeff\": {\"imag\": 0.0, \"real\": 0.5}, \"label\": \"YY\"}\n",
    "                   ]\n",
    "    }\n",
    "H = WeightedPauliOperator.from_dict(pauli_dict)"
   ]
  },
  {
   "cell_type": "code",
   "execution_count": 3,
   "metadata": {},
   "outputs": [],
   "source": [
    "def quantum_circuit(param, pauli):\n",
    "    q = QuantumRegister(2)\n",
    "    c = ClassicalRegister(2)\n",
    "    circuit = QuantumCircuit(q, c)\n",
    "   \n",
    "    circuit.x(q[1])\n",
    "    circuit.h(q[0])\n",
    "    circuit.rz(param, q[0])\n",
    "    circuit.cx(q[0], q[1])\n",
    "    \n",
    "    if pauli == 'II':\n",
    "        return 1\n",
    "    elif pauli == 'ZZ':\n",
    "        circuit.measure(q[0], c[0])\n",
    "        circuit.measure(q[1], c[1])\n",
    "    elif pauli == 'XX':\n",
    "        circuit.u2(0, np.pi, q[0])\n",
    "        circuit.u2(0, np.pi, q[1])\n",
    "        circuit.measure(q[0], c[0])\n",
    "        circuit.measure(q[1], c[1])\n",
    "    elif pauli == 'YY':\n",
    "        circuit.u2(0, np.pi/2, q[0])\n",
    "        circuit.u2(0, np.pi/2, q[1])\n",
    "        circuit.measure(q[0], c[0])\n",
    "        circuit.measure(q[1], c[1])\n",
    "    else:\n",
    "        raise ValueError('Not valid input for measurement: input should be \"XX\" or \"YY\" or \"ZZ\"')\n",
    "        \n",
    "    shots = 1000\n",
    "    backend = BasicAer.get_backend('qasm_simulator')\n",
    "    job = execute(circuit, backend, shots = shots)\n",
    "    result = job.result()\n",
    "    counts = result.get_counts()\n",
    "    #print(counts)\n",
    "    try:\n",
    "        count00 = counts['00']\n",
    "    except:\n",
    "        count00 = 0\n",
    "    try:\n",
    "        count01 = counts['01']\n",
    "    except:\n",
    "        count01 = 0\n",
    "    try:\n",
    "        count10 = counts['10']\n",
    "    except:\n",
    "        count10 = 0\n",
    "    try:\n",
    "        count11 = counts['11']\n",
    "    except:\n",
    "        count11 = 0\n",
    "    expectation_value = (count00 - count01 - count10 + count11) / shots\n",
    "    return expectation_value"
   ]
  },
  {
   "cell_type": "code",
   "execution_count": 4,
   "metadata": {},
   "outputs": [],
   "source": [
    "def VQE(param):\n",
    "    exp_II = -0.5 * quantum_circuit(param, 'II')\n",
    "    exp_XX = 0.5 * quantum_circuit(param, 'XX')\n",
    "    exp_YY = 0.5 * quantum_circuit(param, 'YY')\n",
    "    exp_ZZ = 0.5 * quantum_circuit(param, 'ZZ')\n",
    "    \n",
    "    exp = exp_II + exp_XX + exp_YY + exp_ZZ\n",
    "    return exp"
   ]
  },
  {
   "cell_type": "code",
   "execution_count": 5,
   "metadata": {},
   "outputs": [
    {
     "name": "stdout",
     "output_type": "stream",
     "text": [
      "Starting Parameter Value 5.127711601764854\n",
      "Final Parameter Value 3.1277116017648536\n",
      "Ground State Energy of Target Hamiltonian: -2.0\n"
     ]
    }
   ],
   "source": [
    "parameter = np.random.uniform(0.0, 2*np.pi)\n",
    "tolerance = 0.001 \n",
    "print('Starting Parameter Value', parameter)\n",
    "vqe = minimize(VQE, parameter, method = \"COBYLA\", tol = tolerance)\n",
    "print('Final Parameter Value', vqe.x)\n",
    "print('Ground State Energy of Target Hamiltonian:', vqe.fun)"
   ]
  },
  {
   "cell_type": "markdown",
   "metadata": {},
   "source": [
    "<div style=\"font-size: 18px\">\n",
    "    Ground State Energy of Target Hamiltonian obtained using VQE: -2.0\n",
    "</div>"
   ]
  },
  {
   "cell_type": "code",
   "execution_count": 6,
   "metadata": {},
   "outputs": [
    {
     "data": {
      "text/html": [
       "<pre style=\"word-wrap: normal;white-space: pre;background: #fff0;line-height: 1.1;font-family: &quot;Courier New&quot;,Courier,monospace\">          ┌───┐┌────┐     ┌─┐   \n",
       "q44_0: |0>┤ H ├┤ Rz ├──■──┤M├───\n",
       "          ├───┤└────┘┌─┴─┐└╥┘┌─┐\n",
       "q44_1: |0>┤ X ├──────┤ X ├─╫─┤M├\n",
       "          └───┘      └───┘ ║ └╥┘\n",
       " c44_0: 0 ═════════════════╩══╬═\n",
       "                              ║ \n",
       " c44_1: 0 ════════════════════╩═\n",
       "                                </pre>"
      ],
      "text/plain": [
       "          ┌───┐┌────┐     ┌─┐   \n",
       "q44_0: |0>┤ H ├┤ Rz ├──■──┤M├───\n",
       "          ├───┤└────┘┌─┴─┐└╥┘┌─┐\n",
       "q44_1: |0>┤ X ├──────┤ X ├─╫─┤M├\n",
       "          └───┘      └───┘ ║ └╥┘\n",
       " c44_0: 0 ═════════════════╩══╬═\n",
       "                              ║ \n",
       " c44_1: 0 ════════════════════╩═\n",
       "                                "
      ]
     },
     "execution_count": 6,
     "metadata": {},
     "output_type": "execute_result"
    }
   ],
   "source": [
    "q1 = QuantumRegister(2)\n",
    "c1 = ClassicalRegister(2)\n",
    "cir = QuantumCircuit(q1, c1)   \n",
    "cir.x(q1[1])\n",
    "cir.h(q1[0])\n",
    "cir.rz(vqe.x, q1[0])\n",
    "cir.cx(q1[0], q1[1])\n",
    "cir.measure(q1, c1)\n",
    "circuit_drawer(cir)"
   ]
  },
  {
   "cell_type": "code",
   "execution_count": 7,
   "metadata": {},
   "outputs": [
    {
     "name": "stdout",
     "output_type": "stream",
     "text": [
      "Solution State:\n",
      "[[ 0.        +0.j        ]\n",
      " [-0.70703866+0.00981507j]\n",
      " [ 0.70710678+0.j        ]\n",
      " [ 0.        +0.j        ]]\n"
     ]
    }
   ],
   "source": [
    "q1 = QuantumRegister(2)\n",
    "c1 = ClassicalRegister(2)\n",
    "cir = QuantumCircuit(q1, c1)   \n",
    "cir.x(q1[1])\n",
    "cir.h(q1[0])\n",
    "cir.rz(vqe.x, q1[0])\n",
    "cir.cx(q1[0], q1[1])\n",
    "job1 = execute(cir, backend = BasicAer.get_backend('statevector_simulator'))\n",
    "state = job1.result().get_statevector(cir)\n",
    "print('Solution State:')\n",
    "sol = np.zeros([state.shape[0], 1], dtype = complex)\n",
    "for i in range(state.shape[0]):\n",
    "    sol[i][0] = state[i]\n",
    "print(sol)"
   ]
  },
  {
   "cell_type": "markdown",
   "metadata": {},
   "source": [
    "<div style=\"font-size: 18px\">\n",
    "    Ground State of Target Hamiltonian obtained using VQE: $\\left| \\psi \\right\\rangle = \\frac{1}{\\sqrt{2}} \\left(  -\\left| 00 \\right\\rangle + \\left| 11 \\right\\rangle \\right)$\n",
    "</div>"
   ]
  },
  {
   "cell_type": "code",
   "execution_count": null,
   "metadata": {},
   "outputs": [],
   "source": []
  }
 ],
 "metadata": {
  "kernelspec": {
   "display_name": "Python 3",
   "language": "python",
   "name": "python3"
  },
  "language_info": {
   "codemirror_mode": {
    "name": "ipython",
    "version": 3
   },
   "file_extension": ".py",
   "mimetype": "text/x-python",
   "name": "python",
   "nbconvert_exporter": "python",
   "pygments_lexer": "ipython3",
   "version": "3.7.3"
  }
 },
 "nbformat": 4,
 "nbformat_minor": 2
}
